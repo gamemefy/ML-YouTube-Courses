{
  "cells": [
    {
      "cell_type": "markdown",
      "source": [
        "<img align=\"right\" src=\"https://ds-cs-images.s3.ap-northeast-2.amazonaws.com/Codestates_Fulllogo_Color.png\" width=100>\n",
        "\n",
        "## *AIB / SECTION 2 / SPRINT 3 / NOTE 1*\n",
        "\n",
        "# 📝 Assignment\n",
        "---\n",
        "# Choose your ML problems\n",
        "\n",
        "이번 스프린트에서는 포트폴리오 프로젝트를 위해 수강생 각자가 정한 데이터셋을 사용하여 과제를 수행합니다. 프로젝트를 위한 데이터를 최종 선택하기 전에 여러 가능한 데이터세트를 살펴보고 간단한 모델까지 학습해 보는 것을 추천드립니다."
      ],
      "metadata": {
        "id": "nCc3XZEyG3XV"
      }
    },
    {
      "cell_type": "markdown",
      "source": [
        "### 1) 타겟으로 사용할 특성을 선택합니다.\n",
        "**(Urclass Quiz)** 여러분들이 프로젝트에 사용할 데이터셋과 타겟특성에 대해 아래의 내용을 포함하여 간략하게 설명해주세요. \n",
        "* `df.dtypes`을 사용해서 타겟특성의 데이터 타입 확인\n",
        "* `df.describe()`를 사용해서 타겟특성의 대표값 확인(실수-평균, 범주형-최빈값)"
      ],
      "metadata": {
        "id": "NNc8mCb-pHYk"
      }
    },
    {
      "cell_type": "code",
      "execution_count": 19,
      "source": [
        "from google.colab import drive\n",
        "drive.mount('/content/drive')"
      ],
      "outputs": [
        {
          "output_type": "stream",
          "name": "stdout",
          "text": [
            "Mounted at /content/drive\n"
          ]
        }
      ],
      "metadata": {
        "id": "OlzwiTa1pHYl",
        "outputId": "935c90df-c2c5-4e02-d08b-1897c05c449d",
        "colab": {
          "base_uri": "https://localhost:8080/"
        }
      }
    },
    {
      "cell_type": "code",
      "source": [
        "import pandas as pd\n",
        "\n",
        "train=pd.read_csv('/content/drive/MyDrive/dhata/crypto/train/train.csv')"
      ],
      "metadata": {
        "id": "LZ25jY-j_1j5"
      },
      "execution_count": 20,
      "outputs": []
    },
    {
      "cell_type": "code",
      "source": [
        "train.dtypes # 타겟 데이터는 실수형"
      ],
      "metadata": {
        "id": "PCYj4e7XANl5",
        "outputId": "9ddb0762-883e-4607-beb8-306834b1fafb",
        "colab": {
          "base_uri": "https://localhost:8080/"
        }
      },
      "execution_count": 22,
      "outputs": [
        {
          "output_type": "execute_result",
          "data": {
            "text/plain": [
              "timestamp      int64\n",
              "Asset_ID       int64\n",
              "Count        float64\n",
              "Open         float64\n",
              "High         float64\n",
              "Low          float64\n",
              "Close        float64\n",
              "Volume       float64\n",
              "VWAP         float64\n",
              "Target       float64\n",
              "dtype: object"
            ]
          },
          "metadata": {},
          "execution_count": 22
        }
      ]
    },
    {
      "cell_type": "code",
      "source": [
        "train.shape "
      ],
      "metadata": {
        "id": "moamzErkAemx",
        "outputId": "3e46b959-1c0d-402e-bda8-18c8288768ce",
        "colab": {
          "base_uri": "https://localhost:8080/"
        }
      },
      "execution_count": 25,
      "outputs": [
        {
          "output_type": "execute_result",
          "data": {
            "text/plain": [
              "(24236806, 10)"
            ]
          },
          "metadata": {},
          "execution_count": 25
        }
      ]
    },
    {
      "cell_type": "code",
      "source": [
        "train.describe() # 7.12e-06"
      ],
      "metadata": {
        "id": "82bD-W1dAQJB",
        "outputId": "1d5af5d9-ae65-46ee-e14c-a02cbc8409eb",
        "colab": {
          "base_uri": "https://localhost:8080/",
          "height": 364
        }
      },
      "execution_count": 24,
      "outputs": [
        {
          "output_type": "execute_result",
          "data": {
            "text/html": [
              "\n",
              "  <div id=\"df-02f5014c-048e-46d3-b8ae-9203d2039727\">\n",
              "    <div class=\"colab-df-container\">\n",
              "      <div>\n",
              "<style scoped>\n",
              "    .dataframe tbody tr th:only-of-type {\n",
              "        vertical-align: middle;\n",
              "    }\n",
              "\n",
              "    .dataframe tbody tr th {\n",
              "        vertical-align: top;\n",
              "    }\n",
              "\n",
              "    .dataframe thead th {\n",
              "        text-align: right;\n",
              "    }\n",
              "</style>\n",
              "<table border=\"1\" class=\"dataframe\">\n",
              "  <thead>\n",
              "    <tr style=\"text-align: right;\">\n",
              "      <th></th>\n",
              "      <th>timestamp</th>\n",
              "      <th>Asset_ID</th>\n",
              "      <th>Count</th>\n",
              "      <th>Open</th>\n",
              "      <th>High</th>\n",
              "      <th>Low</th>\n",
              "      <th>Close</th>\n",
              "      <th>Volume</th>\n",
              "      <th>VWAP</th>\n",
              "      <th>Target</th>\n",
              "    </tr>\n",
              "  </thead>\n",
              "  <tbody>\n",
              "    <tr>\n",
              "      <th>count</th>\n",
              "      <td>2.423681e+07</td>\n",
              "      <td>2.423681e+07</td>\n",
              "      <td>2.423681e+07</td>\n",
              "      <td>2.423681e+07</td>\n",
              "      <td>2.423681e+07</td>\n",
              "      <td>2.423681e+07</td>\n",
              "      <td>2.423681e+07</td>\n",
              "      <td>2.423681e+07</td>\n",
              "      <td>2.423680e+07</td>\n",
              "      <td>2.348647e+07</td>\n",
              "    </tr>\n",
              "    <tr>\n",
              "      <th>mean</th>\n",
              "      <td>1.577120e+09</td>\n",
              "      <td>6.292544e+00</td>\n",
              "      <td>2.864593e+02</td>\n",
              "      <td>1.432640e+03</td>\n",
              "      <td>1.436350e+03</td>\n",
              "      <td>1.429568e+03</td>\n",
              "      <td>1.432640e+03</td>\n",
              "      <td>2.868530e+05</td>\n",
              "      <td>NaN</td>\n",
              "      <td>7.121752e-06</td>\n",
              "    </tr>\n",
              "    <tr>\n",
              "      <th>std</th>\n",
              "      <td>3.323350e+07</td>\n",
              "      <td>4.091861e+00</td>\n",
              "      <td>8.673982e+02</td>\n",
              "      <td>6.029605e+03</td>\n",
              "      <td>6.039482e+03</td>\n",
              "      <td>6.020261e+03</td>\n",
              "      <td>6.029611e+03</td>\n",
              "      <td>2.433935e+06</td>\n",
              "      <td>NaN</td>\n",
              "      <td>5.679042e-03</td>\n",
              "    </tr>\n",
              "    <tr>\n",
              "      <th>min</th>\n",
              "      <td>1.514765e+09</td>\n",
              "      <td>0.000000e+00</td>\n",
              "      <td>1.000000e+00</td>\n",
              "      <td>1.170400e-03</td>\n",
              "      <td>1.195000e-03</td>\n",
              "      <td>2.000000e-04</td>\n",
              "      <td>1.171400e-03</td>\n",
              "      <td>-3.662812e-01</td>\n",
              "      <td>-inf</td>\n",
              "      <td>-5.093509e-01</td>\n",
              "    </tr>\n",
              "    <tr>\n",
              "      <th>25%</th>\n",
              "      <td>1.549011e+09</td>\n",
              "      <td>3.000000e+00</td>\n",
              "      <td>1.900000e+01</td>\n",
              "      <td>2.676500e-01</td>\n",
              "      <td>2.681600e-01</td>\n",
              "      <td>2.669000e-01</td>\n",
              "      <td>2.676484e-01</td>\n",
              "      <td>1.410725e+02</td>\n",
              "      <td>2.676368e-01</td>\n",
              "      <td>-1.694354e-03</td>\n",
              "    </tr>\n",
              "    <tr>\n",
              "      <th>50%</th>\n",
              "      <td>1.578372e+09</td>\n",
              "      <td>6.000000e+00</td>\n",
              "      <td>6.400000e+01</td>\n",
              "      <td>1.428860e+01</td>\n",
              "      <td>1.431250e+01</td>\n",
              "      <td>1.426300e+01</td>\n",
              "      <td>1.428920e+01</td>\n",
              "      <td>1.295415e+03</td>\n",
              "      <td>1.428769e+01</td>\n",
              "      <td>-4.289844e-05</td>\n",
              "    </tr>\n",
              "    <tr>\n",
              "      <th>75%</th>\n",
              "      <td>1.606198e+09</td>\n",
              "      <td>9.000000e+00</td>\n",
              "      <td>2.210000e+02</td>\n",
              "      <td>2.288743e+02</td>\n",
              "      <td>2.293000e+02</td>\n",
              "      <td>2.284200e+02</td>\n",
              "      <td>2.288729e+02</td>\n",
              "      <td>2.729764e+04</td>\n",
              "      <td>2.288728e+02</td>\n",
              "      <td>1.601520e-03</td>\n",
              "    </tr>\n",
              "    <tr>\n",
              "      <th>max</th>\n",
              "      <td>1.632182e+09</td>\n",
              "      <td>1.300000e+01</td>\n",
              "      <td>1.650160e+05</td>\n",
              "      <td>6.480594e+04</td>\n",
              "      <td>6.490000e+04</td>\n",
              "      <td>6.467053e+04</td>\n",
              "      <td>6.480854e+04</td>\n",
              "      <td>7.597554e+08</td>\n",
              "      <td>inf</td>\n",
              "      <td>9.641699e-01</td>\n",
              "    </tr>\n",
              "  </tbody>\n",
              "</table>\n",
              "</div>\n",
              "      <button class=\"colab-df-convert\" onclick=\"convertToInteractive('df-02f5014c-048e-46d3-b8ae-9203d2039727')\"\n",
              "              title=\"Convert this dataframe to an interactive table.\"\n",
              "              style=\"display:none;\">\n",
              "        \n",
              "  <svg xmlns=\"http://www.w3.org/2000/svg\" height=\"24px\"viewBox=\"0 0 24 24\"\n",
              "       width=\"24px\">\n",
              "    <path d=\"M0 0h24v24H0V0z\" fill=\"none\"/>\n",
              "    <path d=\"M18.56 5.44l.94 2.06.94-2.06 2.06-.94-2.06-.94-.94-2.06-.94 2.06-2.06.94zm-11 1L8.5 8.5l.94-2.06 2.06-.94-2.06-.94L8.5 2.5l-.94 2.06-2.06.94zm10 10l.94 2.06.94-2.06 2.06-.94-2.06-.94-.94-2.06-.94 2.06-2.06.94z\"/><path d=\"M17.41 7.96l-1.37-1.37c-.4-.4-.92-.59-1.43-.59-.52 0-1.04.2-1.43.59L10.3 9.45l-7.72 7.72c-.78.78-.78 2.05 0 2.83L4 21.41c.39.39.9.59 1.41.59.51 0 1.02-.2 1.41-.59l7.78-7.78 2.81-2.81c.8-.78.8-2.07 0-2.86zM5.41 20L4 18.59l7.72-7.72 1.47 1.35L5.41 20z\"/>\n",
              "  </svg>\n",
              "      </button>\n",
              "      \n",
              "  <style>\n",
              "    .colab-df-container {\n",
              "      display:flex;\n",
              "      flex-wrap:wrap;\n",
              "      gap: 12px;\n",
              "    }\n",
              "\n",
              "    .colab-df-convert {\n",
              "      background-color: #E8F0FE;\n",
              "      border: none;\n",
              "      border-radius: 50%;\n",
              "      cursor: pointer;\n",
              "      display: none;\n",
              "      fill: #1967D2;\n",
              "      height: 32px;\n",
              "      padding: 0 0 0 0;\n",
              "      width: 32px;\n",
              "    }\n",
              "\n",
              "    .colab-df-convert:hover {\n",
              "      background-color: #E2EBFA;\n",
              "      box-shadow: 0px 1px 2px rgba(60, 64, 67, 0.3), 0px 1px 3px 1px rgba(60, 64, 67, 0.15);\n",
              "      fill: #174EA6;\n",
              "    }\n",
              "\n",
              "    [theme=dark] .colab-df-convert {\n",
              "      background-color: #3B4455;\n",
              "      fill: #D2E3FC;\n",
              "    }\n",
              "\n",
              "    [theme=dark] .colab-df-convert:hover {\n",
              "      background-color: #434B5C;\n",
              "      box-shadow: 0px 1px 3px 1px rgba(0, 0, 0, 0.15);\n",
              "      filter: drop-shadow(0px 1px 2px rgba(0, 0, 0, 0.3));\n",
              "      fill: #FFFFFF;\n",
              "    }\n",
              "  </style>\n",
              "\n",
              "      <script>\n",
              "        const buttonEl =\n",
              "          document.querySelector('#df-02f5014c-048e-46d3-b8ae-9203d2039727 button.colab-df-convert');\n",
              "        buttonEl.style.display =\n",
              "          google.colab.kernel.accessAllowed ? 'block' : 'none';\n",
              "\n",
              "        async function convertToInteractive(key) {\n",
              "          const element = document.querySelector('#df-02f5014c-048e-46d3-b8ae-9203d2039727');\n",
              "          const dataTable =\n",
              "            await google.colab.kernel.invokeFunction('convertToInteractive',\n",
              "                                                     [key], {});\n",
              "          if (!dataTable) return;\n",
              "\n",
              "          const docLinkHtml = 'Like what you see? Visit the ' +\n",
              "            '<a target=\"_blank\" href=https://colab.research.google.com/notebooks/data_table.ipynb>data table notebook</a>'\n",
              "            + ' to learn more about interactive tables.';\n",
              "          element.innerHTML = '';\n",
              "          dataTable['output_type'] = 'display_data';\n",
              "          await google.colab.output.renderOutput(dataTable, element);\n",
              "          const docLink = document.createElement('div');\n",
              "          docLink.innerHTML = docLinkHtml;\n",
              "          element.appendChild(docLink);\n",
              "        }\n",
              "      </script>\n",
              "    </div>\n",
              "  </div>\n",
              "  "
            ],
            "text/plain": [
              "          timestamp      Asset_ID  ...          VWAP        Target\n",
              "count  2.423681e+07  2.423681e+07  ...  2.423680e+07  2.348647e+07\n",
              "mean   1.577120e+09  6.292544e+00  ...           NaN  7.121752e-06\n",
              "std    3.323350e+07  4.091861e+00  ...           NaN  5.679042e-03\n",
              "min    1.514765e+09  0.000000e+00  ...          -inf -5.093509e-01\n",
              "25%    1.549011e+09  3.000000e+00  ...  2.676368e-01 -1.694354e-03\n",
              "50%    1.578372e+09  6.000000e+00  ...  1.428769e+01 -4.289844e-05\n",
              "75%    1.606198e+09  9.000000e+00  ...  2.288728e+02  1.601520e-03\n",
              "max    1.632182e+09  1.300000e+01  ...           inf  9.641699e-01\n",
              "\n",
              "[8 rows x 10 columns]"
            ]
          },
          "metadata": {},
          "execution_count": 24
        }
      ]
    },
    {
      "cell_type": "markdown",
      "source": [
        "##위에서 보시다시피 2천4백만 개의 관측치와 10개의 특성을 가진 데이터라 사실 잘 될 것 같지 않지만, 제 컴퓨터로 할 수 있는데까지 한 번 해보겠습니다.\n",
        "\n",
        "##Open, High, Low, Close는 각각 미국 달러로 해당 '분'에 거래된 가격입니다. Count는 그 분에 이뤄진 거래 숫자입니다.\n",
        "\n",
        "##가장 중요한 타겟은 거래량 백분율 차이에 로그를 취한 값입니다."
      ],
      "metadata": {
        "id": "Yon6dZJmAmwJ"
      }
    },
    {
      "cell_type": "markdown",
      "source": [
        "### 2) 풀고자 하는 문제가 분류/회귀 문제인지 정합니다.\n",
        "**(Urclass Quiz)** 다이아몬드를 보관하기 위해 금고를 만들었습니다. 금고가 너무 작아서 가격이 상위 25%인 것만 보관하려고 합니다. 이를 위해 'price' 특성을 이용해 금고에 보관할 다이아몬드와 그렇지 않은 것으로 분류하는 이진분류 컬럼을 만들어 타겟 특성으로 사용할 것입니다. 타겟 특성의 최빈값의 빈도수를 적어주세요.\n",
        "- 'top25'라는 새로운 타겟변수(컬럼)를 만들어주세요.\n",
        "- 상위 25% 이상 True, 상위 25% 미만 False\n",
        "\n",
        "   "
      ],
      "metadata": {
        "id": "BcgcG5UfpHYl"
      }
    },
    {
      "cell_type": "code",
      "execution_count": 1,
      "source": [
        "### 이곳에서 과제를 진행해 주세요 ### \n",
        "import seaborn as sns\n",
        "diamonds = sns.load_dataset('diamonds')"
      ],
      "outputs": [],
      "metadata": {
        "id": "53QsekKhpHYl"
      }
    },
    {
      "cell_type": "code",
      "source": [
        "diamonds['price'].sort_values(ascending=False)"
      ],
      "metadata": {
        "id": "bvfEPU3R60UB",
        "outputId": "864dbc49-3655-4fa0-dc14-e151123da460",
        "colab": {
          "base_uri": "https://localhost:8080/"
        }
      },
      "execution_count": 7,
      "outputs": [
        {
          "output_type": "execute_result",
          "data": {
            "text/plain": [
              "27749    18823\n",
              "27748    18818\n",
              "27747    18806\n",
              "27746    18804\n",
              "27745    18803\n",
              "         ...  \n",
              "4          335\n",
              "3          334\n",
              "2          327\n",
              "1          326\n",
              "0          326\n",
              "Name: price, Length: 53940, dtype: int64"
            ]
          },
          "metadata": {},
          "execution_count": 7
        }
      ]
    },
    {
      "cell_type": "code",
      "source": [
        "criteria=diamonds.price.sort_values(ascending=False).quantile(.75) # 기준"
      ],
      "metadata": {
        "id": "WxaNS1Xu5-U3"
      },
      "execution_count": 11,
      "outputs": []
    },
    {
      "cell_type": "code",
      "source": [
        "def top25(x):\n",
        "  if x>=criteria: # 기준보다 크거나 같으면 1을 출력, 아니면 0을 출력하는 함수\n",
        "    return 1\n",
        "  else:\n",
        "    return 0\n",
        "\n",
        "diamonds['top25']=diamonds['price'].apply(top25)"
      ],
      "metadata": {
        "id": "9Gu7BL227WiJ"
      },
      "execution_count": 12,
      "outputs": []
    },
    {
      "cell_type": "code",
      "source": [
        "diamonds.top25.value_counts('0') # 잘 나뉘었는지 확인"
      ],
      "metadata": {
        "id": "wflQW2oX70nJ",
        "outputId": "54245e26-3178-41da-b500-1b338793e3ca",
        "colab": {
          "base_uri": "https://localhost:8080/"
        }
      },
      "execution_count": 18,
      "outputs": [
        {
          "output_type": "execute_result",
          "data": {
            "text/plain": [
              "0    0.75\n",
              "1    0.25\n",
              "Name: top25, dtype: float64"
            ]
          },
          "metadata": {},
          "execution_count": 18
        }
      ]
    },
    {
      "cell_type": "code",
      "source": [
        "diamonds.top25.value_counts()"
      ],
      "metadata": {
        "id": "-X9-h82KEJvp",
        "outputId": "8248f49b-54d1-4054-c482-0015913a7725",
        "colab": {
          "base_uri": "https://localhost:8080/"
        }
      },
      "execution_count": 26,
      "outputs": [
        {
          "output_type": "execute_result",
          "data": {
            "text/plain": [
              "0    40455\n",
              "1    13485\n",
              "Name: top25, dtype: int64"
            ]
          },
          "metadata": {},
          "execution_count": 26
        }
      ]
    },
    {
      "cell_type": "markdown",
      "source": [
        "### 3) 타겟의 분포를 분석하고 사용할 평가지표를 선택합니다. 평가지표를 선택한 이유를 설명하세요.\n",
        "- 분류: 클래스가 몇 개인지? 클래스 비율이 어떤지(balance or imbalance)\n",
        "- 회귀: 타겟 분포가 right-skewed 인지? log-transform을 사용할 것인지?\n",
        "- 분류: 다수 클래스(majority class) 비율이 50%~70% 인 경우 정확도(accuracy)만 사용해도 무방합니다. 하지만 범위를 넘어설 경우 정확도만을 사용해서는 모델을 잘못 이해할 수 있습니다. 어떤 평가지표를 사용해야 할까요?\n",
        "- 회귀: MAE, RMSE, R^2 등을 사용할 수 있습니다.\n",
        "\n",
        "---\n",
        "\n",
        "\n",
        "**(Urclass Quiz)** 여러분들이 프로젝트에 사용할 데이터의 기준모델과 사용할 평가지표를 제출해주세요."
      ],
      "metadata": {
        "id": "wfkMQUkSpHYm"
      }
    },
    {
      "cell_type": "code",
      "execution_count": 28,
      "source": [
        "target=train['Target']\n",
        "sns.displot(target)"
      ],
      "outputs": [
        {
          "output_type": "execute_result",
          "data": {
            "text/plain": [
              "<seaborn.axisgrid.FacetGrid at 0x7fe9af958dd0>"
            ]
          },
          "metadata": {},
          "execution_count": 28
        },
        {
          "output_type": "display_data",
          "data": {
            "image/png": "[encoded data removed]",
            "text/plain": [
              "<Figure size 360x360 with 1 Axes>"
            ]
          },
          "metadata": {
            "needs_background": "light"
          }
        }
      ],
      "metadata": {
        "id": "u9hgVuVmpHYm",
        "outputId": "40088207-36fa-40af-bf75-ebe174f7da92",
        "colab": {
          "base_uri": "https://localhost:8080/",
          "height": 386
        }
      }
    },
    {
      "cell_type": "code",
      "source": [
        "predict=target.mean()"
      ],
      "metadata": {
        "id": "wmqgXPxLFwaT"
      },
      "execution_count": 30,
      "outputs": []
    },
    {
      "cell_type": "code",
      "source": [
        "errors=predict-target\n",
        "MAE=errors.abs().mean()"
      ],
      "metadata": {
        "id": "T5Pr0SfeHEuO"
      },
      "execution_count": 31,
      "outputs": []
    },
    {
      "cell_type": "code",
      "source": [
        "MAE"
      ],
      "metadata": {
        "id": "nTL45srEHQ1G",
        "outputId": "8847dd47-e4ad-47c6-b10c-820a37180daa",
        "colab": {
          "base_uri": "https://localhost:8080/"
        }
      },
      "execution_count": 32,
      "outputs": [
        {
          "output_type": "execute_result",
          "data": {
            "text/plain": [
              "0.002996397224638032"
            ]
          },
          "metadata": {},
          "execution_count": 32
        }
      ]
    },
    {
      "cell_type": "markdown",
      "source": [
        "## 🔥 도전과제(Github - Discussion)"
      ],
      "metadata": {
        "id": "LDng-TSrpHYn"
      }
    },
    {
      "cell_type": "markdown",
      "source": [
        "### 4) 실무에서 데이터분석가/데이터엔지니어/데이터사이언티스트에게 중요한 역량이 무엇이라고 생각하며, 어떤 어려움을 겪게 될 것 같은지와 어떤 능력이 필요할 지 논의해 보세요. 또한, 섹션2 프로젝트에 앞서 본인이 얻고자 하는 점이나 다짐 등을 서로 공유해 보세요. \n"
      ],
      "metadata": {
        "id": "XpiVRtsDpHYn"
      }
    },
    {
      "cell_type": "code",
      "execution_count": null,
      "source": [
        "### 이곳에서 과제를 진행해 주세요 ### "
      ],
      "outputs": [],
      "metadata": {
        "id": "vlxgv4m-pHYn"
      }
    }
  ],
  "metadata": {
    "kernelspec": {
      "display_name": "Python 3",
      "language": "python",
      "name": "python3"
    },
    "language_info": {
      "codemirror_mode": {
        "name": "ipython",
        "version": 3
      },
      "file_extension": ".py",
      "mimetype": "text/x-python",
      "name": "python",
      "nbconvert_exporter": "python",
      "pygments_lexer": "ipython3",
      "version": "3.7.7"
    },
    "colab": {
      "name": "n231a-choose-your-ml-problems.ipynb",
      "provenance": []
    }
  },
  "nbformat": 4,
  "nbformat_minor": 0
}